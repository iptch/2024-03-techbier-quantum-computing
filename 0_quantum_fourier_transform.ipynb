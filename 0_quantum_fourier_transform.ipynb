{
 "cells": [
  {
   "cell_type": "markdown",
   "id": "f6146cef-41da-4219-be7b-f44ed09c9457",
   "metadata": {},
   "source": [
    "# Quantum Fourier Transform\n",
    "\n",
    "The Quantum Fourier Transform (QFT) is an important subroutine to many quantum algorithms, most famously Shor's algorithm for factoring and the quantum phase estimation (QPE) algorithm for estimating the eigenvalues of a unitary operator [1, 2]. The QFT can be performed efficiently on a quantum computer, using Hadamard gates, controlled phase shift gates and swap gates.\n",
    "\n",
    "## Reference\n",
    "\n",
    "[1] Wikipedia: https://en.wikipedia.org/wiki/Quantum_Fourier_transform\n",
    "\n",
    "[2] Nielsen, Michael A., Chuang, Isaac L. (2010). Quantum Computation and Quantum Information (2nd ed.). Cambridge: Cambridge University Press."
   ]
  },
  {
   "cell_type": "code",
   "execution_count": 2,
   "id": "47e6bff8-4e44-4f76-a3d6-f29c34bfa4ed",
   "metadata": {
    "tags": []
   },
   "outputs": [],
   "source": [
    "from notebook_plotting import plot_bitstrings_formatted\n",
    "import matplotlib.pyplot as plt\n",
    "\n",
    "%matplotlib inline\n",
    "\n",
    "import numpy as np\n",
    "from braket.circuits import Circuit\n",
    "from braket.devices import LocalSimulator\n",
    "\n",
    "from braket.experimental.algorithms.quantum_fourier_transform import (\n",
    "    quantum_fourier_transform as qft_module\n",
    ")"
   ]
  },
  {
   "cell_type": "markdown",
   "id": "d7d0fbfe-8c10-479a-89b3-dfe73ba960c9",
   "metadata": {
    "tags": []
   },
   "source": [
    "# Circuits"
   ]
  },
  {
   "cell_type": "markdown",
   "id": "e89e6485-f987-47a0-9864-026938ac01be",
   "metadata": {},
   "source": [
    "## 1) Quantum Fourier Transform (QFT)"
   ]
  },
  {
   "cell_type": "markdown",
   "id": "5ee77c35-45c9-4073-93be-c2b9bd5b37a7",
   "metadata": {},
   "source": [
    "![image info](./images/qft.png)"
   ]
  },
  {
   "cell_type": "code",
   "execution_count": 3,
   "id": "3e83c053-6c00-402c-9295-15ae68576c01",
   "metadata": {
    "tags": []
   },
   "outputs": [
    {
     "data": {
      "text/plain": [
       "[0, 1, 2, 3]"
      ]
     },
     "execution_count": 3,
     "metadata": {},
     "output_type": "execute_result"
    }
   ],
   "source": [
    "num_qubits = 4\n",
    "qubits = list(range(num_qubits))\n",
    "qubits"
   ]
  },
  {
   "cell_type": "markdown",
   "id": "50b0f18f-38fc-4570-bb42-36848d571754",
   "metadata": {
    "tags": []
   },
   "source": [
    "### Hints:\n",
    "1) $H$ is the Hadamard gate, implemented using the function $\\textbf{Circuit.h(qubit)}$\n",
    "2) $R_{k}$ is the controlled phase gate with $R_{k}$ = \n",
    "$\\begin{pmatrix}\n",
    "    1 & 0 \\\\\n",
    "    0 & e^{i2\\pi / 2^k}\n",
    "\\end{pmatrix}$\n",
    "where the rotation angle is defined by $2\\pi / 2^k$\n",
    "3) $R_{k}$ is implemented using the function $\\textbf{Circuit.cphaseshift(control_qubit, target_qubit)}$"
   ]
  },
  {
   "cell_type": "code",
   "execution_count": null,
   "id": "30d92df7-23ce-4eac-b978-dd84f6f1ccd8",
   "metadata": {},
   "outputs": [],
   "source": [
    "def quantum_fourier_transform_circuit(num_qubits: int) -> Circuit:\n",
    "    \"\"\"Construct a circuit object corresponding to the Quantum Fourier Transform (QFT)\n",
    "    algorithm, applied to the argument qubits.  Does not use recursion to generate the QFT.\n",
    "\n",
    "    Args:\n",
    "        num_qubits (int): number of qubits on which to apply the QFT\n",
    "\n",
    "    Returns:\n",
    "        Circuit: qft circuit\n",
    "    \"\"\"\n",
    "\n",
    "    qft_circ = Circuit()\n",
    "    qubits = list(range(num_qubits))\n",
    "    \n",
    "    # Loop over the qubits\n",
    "    for k in range(num_qubits):\n",
    "        # First add a Hadamard gate\n",
    "        qft_circ.h(qubits[k])\n",
    "\n",
    "        # Then apply the controlled rotations, with weights (angles) defined by the distance\n",
    "        # to the control qubit. Start on the qubit after qubit k, and iterate until the end.\n",
    "        # When num_qubits==1, this loop does not run.\n",
    "        for j in range(1, num_qubits - k):\n",
    "            angle = 2 * math.pi / (2 ** (j + 1))\n",
    "            qft_circ.cphaseshift(qubits[k + j], qubits[k], angle)\n",
    "\n",
    "    # Then add SWAP gates to reverse the order of the qubits:\n",
    "    for i in range(math.floor(num_qubits / 2)):\n",
    "        qft_circ.swap(qubits[i], qubits[-i - 1])\n",
    "\n",
    "    return qft_circ"
   ]
  },
  {
   "cell_type": "markdown",
   "id": "98d286ff-851b-4866-9e4a-b94a911ee50c",
   "metadata": {},
   "source": [
    "## 2) Inverse QFT"
   ]
  },
  {
   "cell_type": "code",
   "execution_count": null,
   "id": "2bef3ba2-05d4-4f0c-b108-87e642b7db31",
   "metadata": {},
   "outputs": [],
   "source": []
  }
 ],
 "metadata": {
  "kernelspec": {
   "display_name": "conda_braket",
   "language": "python",
   "name": "conda_braket"
  },
  "language_info": {
   "codemirror_mode": {
    "name": "ipython",
    "version": 3
   },
   "file_extension": ".py",
   "mimetype": "text/x-python",
   "name": "python",
   "nbconvert_exporter": "python",
   "pygments_lexer": "ipython3",
   "version": "3.10.13"
  }
 },
 "nbformat": 4,
 "nbformat_minor": 5
}
