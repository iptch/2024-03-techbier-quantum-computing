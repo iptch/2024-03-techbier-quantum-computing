{
 "cells": [
  {
   "cell_type": "markdown",
   "id": "f6146cef-41da-4219-be7b-f44ed09c9457",
   "metadata": {},
   "source": [
    "# Quantum Fourier Transform - Result"
   ]
  },
  {
   "cell_type": "code",
   "execution_count": 2,
   "id": "30d92df7-23ce-4eac-b978-dd84f6f1ccd8",
   "metadata": {
    "tags": []
   },
   "outputs": [],
   "source": [
    "def quantum_fourier_transform_circuit(num_qubits: int) -> Circuit:\n",
    "    \"\"\"Construct a circuit object corresponding to the Quantum Fourier Transform (QFT)\n",
    "    algorithm, applied to the argument qubits.  Does not use recursion to generate the QFT.\n",
    "\n",
    "    Args:\n",
    "        num_qubits (int): number of qubits on which to apply the QFT\n",
    "\n",
    "    Returns:\n",
    "        Circuit: qft circuit\n",
    "    \"\"\"\n",
    "\n",
    "    qft_circ = Circuit()\n",
    "    qubits = list(range(num_qubits))\n",
    "    \n",
    "    # Loop over the qubits\n",
    "    for k in range(num_qubits):\n",
    "        # First add a Hadamard gate\n",
    "        qft_circ.h(qubits[k])\n",
    "\n",
    "        # Then apply the controlled rotations, with weights (angles) defined by the distance\n",
    "        # to the control qubit. Start on the qubit after qubit k, and iterate until the end.\n",
    "        for j in range(1, num_qubits - k):\n",
    "            angle = 2 * math.pi / (2 ** (j + 1))\n",
    "            qft_circ.cphaseshift(qubits[k + j], qubits[k], angle)\n",
    "\n",
    "    # Then add SWAP gates to reverse the order of the qubits:\n",
    "    # IMPORTANT: Please ignore the swap operations, they are implemented as extra steps\n",
    "    #            to our circuit implementation, in order to make it comparable to the QFT \n",
    "    #            algorithm within braket.\n",
    "    for i in range(math.floor(num_qubits / 2)):\n",
    "        qft_circ.swap(qubits[i], qubits[-i - 1])\n",
    "\n",
    "    return qft_circ"
   ]
  }
 ],
 "metadata": {
  "kernelspec": {
   "display_name": "conda_braket",
   "language": "python",
   "name": "conda_braket"
  },
  "language_info": {
   "codemirror_mode": {
    "name": "ipython",
    "version": 3
   },
   "file_extension": ".py",
   "mimetype": "text/x-python",
   "name": "python",
   "nbconvert_exporter": "python",
   "pygments_lexer": "ipython3",
   "version": "3.10.13"
  }
 },
 "nbformat": 4,
 "nbformat_minor": 5
}
