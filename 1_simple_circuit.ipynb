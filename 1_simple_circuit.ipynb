{
 "cells": [
  {
   "cell_type": "markdown",
   "id": "29e35474-0516-40dd-a2b2-258ccdf86e6c",
   "metadata": {
    "tags": []
   },
   "source": [
    "# Simple, but Unknown Circuit\n",
    "\n",
    "This notebook asks you to construct a simple circuit based on a sketch. The circuit is parameterized by two sets of angles, each of which fully determines the state of one of the qubits."
   ]
  },
  {
   "cell_type": "code",
   "execution_count": 1,
   "id": "5c3d6ccc-c604-4f84-8d25-578378ce9b1f",
   "metadata": {
    "tags": []
   },
   "outputs": [],
   "source": [
    "from braket.circuits import  Circuit, FreeParameter\n",
    "\n",
    "# Create a numeric value for the rotation angles\n",
    "phi_1 = FreeParameter(\"phi_1\")\n",
    "theta_1 = FreeParameter(\"theta_1\")\n",
    "phi_2 = FreeParameter(\"phi_2\")\n",
    "theta_2 = FreeParameter(\"theta_2\")\n",
    "\n",
    "# Create a 2-qubit circuit\n",
    "circuit = Circuit().ry(0, phi_1).rz(0, theta_1).ry(1, phi_2).rz(1, theta_2)"
   ]
  },
  {
   "cell_type": "markdown",
   "id": "b9b7e7de",
   "metadata": {},
   "source": [
    "Now implement the rest of the circuit based on this diagramm.\n",
    "\n",
    "![simple cicuit](images/simple_circuit.png)\n",
    "\n",
    "If you need help, you can read the following hints:\n",
    "\n",
    "<details>\n",
    "<summary>Hint 1</summary>\n",
    "Start with `circuit.`\n",
    "</details>\n",
    "<details>\n",
    "<summary>Hint 2</summary>\n",
    "The gates in the diagram are Controlled Not gates.\n",
    "</details>\n",
    "<details>\n",
    "<summary>Hint 3</summary>\n",
    "The black dot indicates the control qubit, the plus indicates the target qubit.\n",
    "</details>\n",
    "<details>\n",
    "<summary>Hint 4</summary>\n",
    "'circuit.cnot(control=0, target=1)' adds a Controlled Not gate to the circuit with qubit 1 as the control and quibit 2 as the target.\n",
    "</details>"
   ]
  },
  {
   "cell_type": "code",
   "execution_count": 2,
   "id": "6e2e6a55",
   "metadata": {
    "vscode": {
     "languageId": "plaintext"
    }
   },
   "outputs": [],
   "source": [
    "# implement your circuit here"
   ]
  },
  {
   "cell_type": "markdown",
   "id": "a128023f-6357-406e-8b75-9540f1298224",
   "metadata": {},
   "source": [
    "## Experiments\n",
    "\n",
    "Now that you have implemented the circuit, you can run experiments on it. Try to figure out what this circuit does to its two inputs.\n",
    "\n",
    "If you're stuck, have a look at these hints.\n",
    "\n",
    "<details>\n",
    "<summary>Hint 1</summary>\n",
    "First try using different states as inputs and see what the output is. You can also leave out your circuit to verify what the input is.\n",
    "</details>\n",
    "<details>\n",
    "<summary>Hint 2</summary>\n",
    "Try measuring something other than just |0〉and |1〉\n",
    "</details>\n",
    "<details>\n",
    "<summary>Hint 3</summary>\n",
    "If you measure the X Y and Z observables of a qubit, you can use those values to visualize the state of the qubit with the Bloch sphere.\n",
    "</details>\n",
    "<details>\n",
    "<summary>Hint 4</summary>\n",
    "You can use `circuit.sample(observable=Observable.X(), target=0)` to get an estimate of where on the X-axis in the Bloch sphere qubit 1 lies.\n",
    "There is also a way to get a more exact results. You can read about it here: https://docs.aws.amazon.com/braket/latest/developerguide/braket-result-types.html\n",
    "</details>"
   ]
  },
  {
   "cell_type": "code",
   "execution_count": 3,
   "id": "6e8a41bf-4e94-43a3-aa0d-87997288efe8",
   "metadata": {
    "tags": []
   },
   "outputs": [
    {
     "data": {
      "image/png": "[encoded data removed]",
      "text/plain": [
       "<Figure size 640x480 with 1 Axes>"
      ]
     },
     "metadata": {},
     "output_type": "display_data"
    },
    {
     "data": {
      "image/png": "[encoded data removed]",
      "text/plain": [
       "<Figure size 640x480 with 1 Axes>"
      ]
     },
     "metadata": {},
     "output_type": "display_data"
    },
    {
     "data": {
      "text/plain": [
       "<Figure size 640x480 with 0 Axes>"
      ]
     },
     "metadata": {},
     "output_type": "display_data"
    }
   ],
   "source": [
    "from braket.devices import LocalSimulator\n",
    "import numpy as np\n",
    "import matplotlib.pyplot as plt\n",
    "%matplotlib inline\n",
    "\n",
    "device = LocalSimulator()\n",
    "\n",
    "# Optionally do something with the circuit\n",
    "\n",
    "runs = []\n",
    "\n",
    "runs.append(device.run(circuit, inputs=dict(phi_1=0, theta_1=0, phi_2=np.pi/2, theta_2=0), shots=1000)) # |0〉 and |+〉\n",
    "runs.append(device.run(circuit, inputs=dict(phi_1=np.pi, theta_1=0, phi_2=np.pi/2, theta_2=np.pi/2), shots=1000)) # |1〉 and |+y〉\n",
    "\n",
    "results = [run.result().measurement_counts for run in runs]\n",
    "\n",
    "for counts in results:\n",
    "    plt.bar(counts.keys(), counts.values());\n",
    "    plt.xlabel('bitstrings');\n",
    "    plt.ylabel('counts');\n",
    "    plt.show()\n",
    "    plt.clf()"
   ]
  },
  {
   "cell_type": "code",
   "execution_count": null,
   "id": "120a5644-afe5-4fb7-a5d0-1c9308228ed0",
   "metadata": {},
   "outputs": [],
   "source": []
  }
 ],
 "metadata": {
  "kernelspec": {
   "display_name": "conda_braket",
   "language": "python",
   "name": "conda_braket"
  },
  "language_info": {
   "codemirror_mode": {
    "name": "ipython",
    "version": 3
   },
   "file_extension": ".py",
   "mimetype": "text/x-python",
   "name": "python",
   "nbconvert_exporter": "python",
   "pygments_lexer": "ipython3",
   "version": "3.10.13"
  }
 },
 "nbformat": 4,
 "nbformat_minor": 5
}
