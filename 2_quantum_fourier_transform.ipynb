{
 "cells": [
  {
   "cell_type": "markdown",
   "id": "f6146cef-41da-4219-be7b-f44ed09c9457",
   "metadata": {},
   "source": [
    "# Quantum Fourier Transform\n",
    "\n",
    "The Quantum Fourier Transform (QFT) is an important subroutine to many quantum algorithms, most famously Shor's algorithm for factoring and the quantum phase estimation (QPE) algorithm for estimating the eigenvalues of a unitary operator [1, 2]. The QFT can be performed efficiently on a quantum computer, using Hadamard gates, controlled phase shift gates and swap gates.\n",
    "\n",
    "## Reference\n",
    "\n",
    "[1] Wikipedia: https://en.wikipedia.org/wiki/Quantum_Fourier_transform\n",
    "\n",
    "[2] More Details: https://young.physics.ucsc.edu/150/QFT-FFT.pdf\n",
    "\n",
    "[3] Nielsen, Michael A., Chuang, Isaac L. (2010). Quantum Computation and Quantum Information (2nd ed.). Cambridge: Cambridge University Press."
   ]
  },
  {
   "cell_type": "code",
   "execution_count": 1,
   "id": "47e6bff8-4e44-4f76-a3d6-f29c34bfa4ed",
   "metadata": {
    "tags": []
   },
   "outputs": [],
   "source": [
    "from utils.notebook_plotting import plot_bitstrings_formatted\n",
    "import matplotlib.pyplot as plt\n",
    "\n",
    "%matplotlib inline\n",
    "\n",
    "import math\n",
    "import numpy as np\n",
    "from braket.circuits import Circuit\n",
    "from braket.devices import LocalSimulator\n",
    "\n",
    "from braket.experimental.algorithms.quantum_fourier_transform import (\n",
    "    quantum_fourier_transform as qft_module\n",
    ")"
   ]
  },
  {
   "cell_type": "markdown",
   "id": "d7d0fbfe-8c10-479a-89b3-dfe73ba960c9",
   "metadata": {
    "tags": []
   },
   "source": [
    "# Circuit"
   ]
  },
  {
   "cell_type": "markdown",
   "id": "5ee77c35-45c9-4073-93be-c2b9bd5b37a7",
   "metadata": {},
   "source": [
    "![image info](./images/qft.png)"
   ]
  },
  {
   "cell_type": "markdown",
   "id": "50b0f18f-38fc-4570-bb42-36848d571754",
   "metadata": {
    "tags": []
   },
   "source": [
    "### Hints:\n",
    "\n",
    "<details>\n",
    "<summary>$\\textbf{Hint 1}$</summary>\n",
    "$H$ is the Hadamard gate, implemented using the function $\\textbf{Circuit.h(qubit)}$. Circuit.h(0) applies Hadamard gate to the first input qubit ($x_1$ in the above sketch)\n",
    "</details>\n",
    "\n",
    "<details>\n",
    "<summary>$\\textbf{Hint 2}$</summary>\n",
    "$R_{k}$ is the controlled phase gate with $R_{k}$ = \n",
    "$\\begin{pmatrix}\n",
    "    1 & 0 \\\\\n",
    "    0 & e^{i2\\pi / 2^k}\n",
    "\\end{pmatrix}$\n",
    "where the rotation angle is defined by $2\\pi / 2^k$. In the above sketch, circled $R_{k}$ is the operation acting on the target qubit, where the channel denoted with $\\bullet$ is the control qubit.\n",
    "</details>\n",
    "\n",
    "<details>\n",
    "<summary>$\\textbf{Hint 3}$</summary>\n",
    "$R_{k}$ is implemented using the function $\\textbf{Circuit.cphaseshift(control_qubit, target_qubit, angle)}$. Circuit.cphaseshift(0, 2, 2$\\pi$) applies 2$\\pi$ rotation to third input qubit (target=2) using first input qubit (control=0) as control qubit.\n",
    "</details>"
   ]
  },
  {
   "cell_type": "code",
   "execution_count": 25,
   "id": "49957f8c-4ac4-44cc-a092-62bbf07ad351",
   "metadata": {
    "tags": []
   },
   "outputs": [],
   "source": [
    "def quantum_fourier_transform_circuit(num_qubits: int) -> Circuit:\n",
    "    \"\"\"Construct a circuit object corresponding to the Quantum Fourier Transform (QFT)\n",
    "    algorithm, applied to the argument qubits.  Does not use recursion to generate the QFT.\n",
    "\n",
    "    Args:\n",
    "        num_qubits (int): number of qubits on which to apply the QFT\n",
    "\n",
    "    Returns:\n",
    "        Circuit: qft circuit\n",
    "    \"\"\"\n",
    "\n",
    "    qft_circ = Circuit()\n",
    "    qubits = list(range(num_qubits))\n",
    "    \n",
    "    # Loop over the qubits\n",
    "    for k in range(num_qubits):\n",
    "        # First add a Hadamard gate\n",
    "        \"\"\"\n",
    "        write code here\n",
    "        \"\"\"\n",
    "\n",
    "        # Then apply the controlled rotations, with weights (angles) defined by the distance\n",
    "        # to the control qubit. Start on the qubit after qubit k, and iterate until the end.\n",
    "        for j in range(1, num_qubits - k):\n",
    "            # define angle\n",
    "            \"\"\"\n",
    "            write code here\n",
    "            \"\"\"\n",
    "            # add controlled phase gate\n",
    "            \"\"\"\n",
    "            write code here\n",
    "            \"\"\"\n",
    "\n",
    "    # Then add SWAP gates to reverse the order of the qubits:\n",
    "    # IMPORTANT: Please ignore the swap operations, they are extra steps\n",
    "    #            to our circuit implementation, in order to make it comparable \n",
    "    #            to the QFT algorithm within braket.\n",
    "    for i in range(math.floor(num_qubits / 2)):\n",
    "        qft_circ.swap(qubits[i], qubits[-i - 1])\n",
    "\n",
    "    return qft_circ"
   ]
  },
  {
   "cell_type": "markdown",
   "id": "98d286ff-851b-4866-9e4a-b94a911ee50c",
   "metadata": {},
   "source": [
    "# Evaluation"
   ]
  },
  {
   "cell_type": "markdown",
   "id": "84376660-abbc-4793-8554-3b20333b6583",
   "metadata": {},
   "source": [
    "Evaluate your results:\n",
    "- We implemented two test cases to implement your qft algorithm on. For the first one, we simple use $|0\\rangle^{\\otimes n}$ (all input channels are $|0\\rangle$ state). For the second test case, we apply a state preparation circuit prior to qft. We therefore apply a hadamard gate to one of the input qubits (denoted by \"h_tgt\"). Try changing the \"h_tgt\" parameter and observe how the qft of the input state changes.\n",
    "- Test your implementation by comparing the probability plots of your qft implementation and the groudtruth by braket. "
   ]
  },
  {
   "cell_type": "code",
   "execution_count": 2,
   "id": "2b8a4473-2de5-412e-910c-b4f83e011f7d",
   "metadata": {
    "tags": []
   },
   "outputs": [],
   "source": [
    "n_qubits = 4"
   ]
  },
  {
   "cell_type": "markdown",
   "id": "568de14e-ea2b-4b7d-869d-9153f417c338",
   "metadata": {},
   "source": [
    "## 1) Input without State Preparation"
   ]
  },
  {
   "cell_type": "code",
   "execution_count": 3,
   "id": "2bef3ba2-05d4-4f0c-b108-87e642b7db31",
   "metadata": {
    "tags": []
   },
   "outputs": [
    {
     "name": "stdout",
     "output_type": "stream",
     "text": [
      "[0.0664 0.0628 0.0597 0.0616 0.0668 0.0613 0.0591 0.0604 0.0651 0.0625\n",
      " 0.0657 0.0636 0.0608 0.0622 0.0599 0.0621]\n"
     ]
    },
    {
     "data": {
      "text/plain": [
       "(0.0, 1.0)"
      ]
     },
     "execution_count": 3,
     "metadata": {},
     "output_type": "execute_result"
    },
    {
     "data": {
      "image/png": "[encoded data removed]",
      "text/plain": [
       "<Figure size 640x480 with 1 Axes>"
      ]
     },
     "metadata": {},
     "output_type": "display_data"
    }
   ],
   "source": [
    "# Groundtruth\n",
    "task = qft_module.run_quantum_fourier_transform(\n",
    "    qubits=range(n_qubits), \n",
    "    n_shots=10000, \n",
    "    device=LocalSimulator()\n",
    ")\n",
    "probabilities = task.result().values[0]\n",
    "print(probabilities)\n",
    "plot_bitstrings_formatted(probabilities)\n",
    "plt.ylim([0, 1])"
   ]
  },
  {
   "cell_type": "code",
   "execution_count": 4,
   "id": "b8f1e53e-bd02-45ca-b0f7-43abb79f262c",
   "metadata": {
    "collapsed": true,
    "jupyter": {
     "outputs_hidden": true
    },
    "tags": []
   },
   "outputs": [
    {
     "ename": "NameError",
     "evalue": "name 'quantum_fourier_transform_circuit' is not defined",
     "output_type": "error",
     "traceback": [
      "\u001b[0;31m---------------------------------------------------------------------------\u001b[0m",
      "\u001b[0;31mNameError\u001b[0m                                 Traceback (most recent call last)",
      "Cell \u001b[0;32mIn[4], line 2\u001b[0m\n\u001b[1;32m      1\u001b[0m \u001b[38;5;66;03m# Your implementation\u001b[39;00m\n\u001b[0;32m----> 2\u001b[0m circuit \u001b[38;5;241m=\u001b[39m \u001b[43mquantum_fourier_transform_circuit\u001b[49m(n_qubits)\n\u001b[1;32m      3\u001b[0m device \u001b[38;5;241m=\u001b[39m LocalSimulator()\n\u001b[1;32m      5\u001b[0m circuit\u001b[38;5;241m.\u001b[39mprobability()\n",
      "\u001b[0;31mNameError\u001b[0m: name 'quantum_fourier_transform_circuit' is not defined"
     ]
    }
   ],
   "source": [
    "# Your implementation\n",
    "circuit = quantum_fourier_transform_circuit(n_qubits)\n",
    "device = LocalSimulator()\n",
    "\n",
    "circuit.probability()\n",
    "task = device.run(circuit, shots=10000)\n",
    "\n",
    "probabilities = task.result().values[0]\n",
    "print(probabilities)\n",
    "plot_bitstrings_formatted(probabilities)\n",
    "plt.ylim([0, 1])"
   ]
  },
  {
   "cell_type": "markdown",
   "id": "88119887-60b0-4758-9d1c-97954770ee9f",
   "metadata": {
    "tags": []
   },
   "source": [
    "## 1) Input with State Preparation"
   ]
  },
  {
   "cell_type": "code",
   "execution_count": 5,
   "id": "f1727a34-2662-44df-994c-fbe6b548dbc5",
   "metadata": {
    "tags": []
   },
   "outputs": [],
   "source": [
    "h_tgt = 2"
   ]
  },
  {
   "cell_type": "code",
   "execution_count": 6,
   "id": "b7514905-7c7e-4859-8c65-326397403c84",
   "metadata": {
    "tags": []
   },
   "outputs": [
    {
     "name": "stdout",
     "output_type": "stream",
     "text": [
      "[0.1244 0.1054 0.063  0.021  0.     0.0172 0.0614 0.1087 0.1219 0.1031\n",
      " 0.0624 0.021  0.     0.019  0.0648 0.1067]\n"
     ]
    },
    {
     "data": {
      "text/plain": [
       "(0.0, 1.0)"
      ]
     },
     "execution_count": 6,
     "metadata": {},
     "output_type": "execute_result"
    },
    {
     "data": {
      "image/png": "[encoded data removed]",
      "text/plain": [
       "<Figure size 640x480 with 1 Axes>"
      ]
     },
     "metadata": {},
     "output_type": "display_data"
    }
   ],
   "source": [
    "# Groundtruth\n",
    "state_prep_circ = Circuit().h(h_tgt) # Applying Hadamard to the third input qubit\n",
    "\n",
    "task = qft_module.run_quantum_fourier_transform(\n",
    "    qubits=range(n_qubits), \n",
    "    n_shots=10000, \n",
    "    state_prep_circ=state_prep_circ, \n",
    "    device=LocalSimulator()\n",
    ")\n",
    "\n",
    "probabilities = task.result().values[0]\n",
    "print(probabilities)\n",
    "plot_bitstrings_formatted(probabilities)\n",
    "plt.ylim([0, 1])"
   ]
  },
  {
   "cell_type": "code",
   "execution_count": 24,
   "id": "cdcb1a91-2cc4-46f9-86fb-7ee8f6cf541b",
   "metadata": {
    "tags": []
   },
   "outputs": [
    {
     "name": "stdout",
     "output_type": "stream",
     "text": [
      "[0.1189 0.1115 0.063  0.0168 0.     0.0189 0.0656 0.1036 0.1234 0.1092\n",
      " 0.0613 0.0179 0.     0.0169 0.0655 0.1075]\n"
     ]
    },
    {
     "data": {
      "text/plain": [
       "(0.0, 1.0)"
      ]
     },
     "execution_count": 24,
     "metadata": {},
     "output_type": "execute_result"
    },
    {
     "data": {
      "image/png": "[encoded data removed]",
      "text/plain": [
       "<Figure size 640x480 with 1 Axes>"
      ]
     },
     "metadata": {},
     "output_type": "display_data"
    }
   ],
   "source": [
    "# Your implementation\n",
    "circuit = state_prep_circ + quantum_fourier_transform_circuit(n_qubits)\n",
    "device = LocalSimulator()\n",
    "\n",
    "circuit.probability()\n",
    "task = device.run(circuit, shots=10000)\n",
    "\n",
    "probabilities = task.result().values[0]\n",
    "print(probabilities)\n",
    "plot_bitstrings_formatted(probabilities)\n",
    "plt.ylim([0, 1])"
   ]
  },
  {
   "cell_type": "code",
   "execution_count": null,
   "id": "b93e9e83-4a52-435a-957b-c1b6077d7f01",
   "metadata": {},
   "outputs": [],
   "source": []
  },
  {
   "cell_type": "code",
   "execution_count": null,
   "id": "7c8c50f1-124a-4f03-b0e6-4b358b30ad25",
   "metadata": {},
   "outputs": [],
   "source": []
  }
 ],
 "metadata": {
  "kernelspec": {
   "display_name": "conda_braket",
   "language": "python",
   "name": "conda_braket"
  },
  "language_info": {
   "codemirror_mode": {
    "name": "ipython",
    "version": 3
   },
   "file_extension": ".py",
   "mimetype": "text/x-python",
   "name": "python",
   "nbconvert_exporter": "python",
   "pygments_lexer": "ipython3",
   "version": "3.10.13"
  }
 },
 "nbformat": 4,
 "nbformat_minor": 5
}
